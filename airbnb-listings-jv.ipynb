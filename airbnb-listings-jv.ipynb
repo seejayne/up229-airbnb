{
 "cells": [
  {
   "cell_type": "code",
   "execution_count": 26,
   "id": "threatened-wrist",
   "metadata": {},
   "outputs": [],
   "source": [
    "# first install nltk : https://anaconda.org/anaconda/nltk\n",
    "# then install the additional data: https://www.nltk.org/data.html\n",
    "# nltk.download()"
   ]
  },
  {
   "cell_type": "code",
   "execution_count": 32,
   "id": "simple-robin",
   "metadata": {
    "scrolled": true
   },
   "outputs": [],
   "source": [
    "# import library\n",
    "import matplotlib\n",
    "from matplotlib.pyplot import figure\n",
    "import matplotlib.pyplot as plt\n",
    "import pandas as pd\n",
    "import nltk"
   ]
  },
  {
   "cell_type": "code",
   "execution_count": 28,
   "id": "tropical-excess",
   "metadata": {
    "scrolled": true
   },
   "outputs": [
    {
     "name": "stdout",
     "output_type": "stream",
     "text": [
      "<class 'pandas.core.frame.DataFrame'>\n",
      "RangeIndex: 31900 entries, 0 to 31899\n",
      "Data columns (total 74 columns):\n",
      " #   Column                                        Non-Null Count  Dtype  \n",
      "---  ------                                        --------------  -----  \n",
      " 0   id                                            31900 non-null  int64  \n",
      " 1   listing_url                                   31900 non-null  object \n",
      " 2   scrape_id                                     31900 non-null  int64  \n",
      " 3   last_scraped                                  31900 non-null  object \n",
      " 4   name                                          31899 non-null  object \n",
      " 5   description                                   30751 non-null  object \n",
      " 6   neighborhood_overview                         20185 non-null  object \n",
      " 7   picture_url                                   31900 non-null  object \n",
      " 8   host_id                                       31900 non-null  int64  \n",
      " 9   host_url                                      31900 non-null  object \n",
      " 10  host_name                                     31865 non-null  object \n",
      " 11  host_since                                    31865 non-null  object \n",
      " 12  host_location                                 31788 non-null  object \n",
      " 13  host_about                                    19167 non-null  object \n",
      " 14  host_response_time                            22364 non-null  object \n",
      " 15  host_response_rate                            22364 non-null  object \n",
      " 16  host_acceptance_rate                          24388 non-null  object \n",
      " 17  host_is_superhost                             31865 non-null  object \n",
      " 18  host_thumbnail_url                            31865 non-null  object \n",
      " 19  host_picture_url                              31865 non-null  object \n",
      " 20  host_neighbourhood                            25673 non-null  object \n",
      " 21  host_listings_count                           31865 non-null  float64\n",
      " 22  host_total_listings_count                     31865 non-null  float64\n",
      " 23  host_verifications                            31900 non-null  object \n",
      " 24  host_has_profile_pic                          31865 non-null  object \n",
      " 25  host_identity_verified                        31865 non-null  object \n",
      " 26  neighbourhood                                 20186 non-null  object \n",
      " 27  neighbourhood_cleansed                        31900 non-null  object \n",
      " 28  neighbourhood_group_cleansed                  31900 non-null  object \n",
      " 29  latitude                                      31900 non-null  float64\n",
      " 30  longitude                                     31900 non-null  float64\n",
      " 31  property_type                                 31900 non-null  object \n",
      " 32  room_type                                     31900 non-null  object \n",
      " 33  accommodates                                  31900 non-null  int64  \n",
      " 34  bathrooms                                     0 non-null      float64\n",
      " 35  bathrooms_text                                31857 non-null  object \n",
      " 36  bedrooms                                      28212 non-null  float64\n",
      " 37  beds                                          31482 non-null  float64\n",
      " 38  amenities                                     31900 non-null  object \n",
      " 39  price                                         31900 non-null  object \n",
      " 40  minimum_nights                                31900 non-null  int64  \n",
      " 41  maximum_nights                                31900 non-null  int64  \n",
      " 42  minimum_minimum_nights                        31899 non-null  float64\n",
      " 43  maximum_minimum_nights                        31899 non-null  float64\n",
      " 44  minimum_maximum_nights                        31899 non-null  float64\n",
      " 45  maximum_maximum_nights                        31899 non-null  float64\n",
      " 46  minimum_nights_avg_ntm                        31899 non-null  float64\n",
      " 47  maximum_nights_avg_ntm                        31899 non-null  float64\n",
      " 48  calendar_updated                              0 non-null      float64\n",
      " 49  has_availability                              31900 non-null  object \n",
      " 50  availability_30                               31900 non-null  int64  \n",
      " 51  availability_60                               31900 non-null  int64  \n",
      " 52  availability_90                               31900 non-null  int64  \n",
      " 53  availability_365                              31900 non-null  int64  \n",
      " 54  calendar_last_scraped                         31900 non-null  object \n",
      " 55  number_of_reviews                             31900 non-null  int64  \n",
      " 56  number_of_reviews_ltm                         31900 non-null  int64  \n",
      " 57  number_of_reviews_l30d                        31900 non-null  int64  \n",
      " 58  first_review                                  24219 non-null  object \n",
      " 59  last_review                                   24219 non-null  object \n",
      " 60  review_scores_rating                          23858 non-null  float64\n",
      " 61  review_scores_accuracy                        23686 non-null  float64\n",
      " 62  review_scores_cleanliness                     23687 non-null  float64\n",
      " 63  review_scores_checkin                         23677 non-null  float64\n",
      " 64  review_scores_communication                   23684 non-null  float64\n",
      " 65  review_scores_location                        23674 non-null  float64\n",
      " 66  review_scores_value                           23671 non-null  float64\n",
      " 67  license                                       6981 non-null   object \n",
      " 68  instant_bookable                              31900 non-null  object \n",
      " 69  calculated_host_listings_count                31900 non-null  int64  \n",
      " 70  calculated_host_listings_count_entire_homes   31900 non-null  int64  \n",
      " 71  calculated_host_listings_count_private_rooms  31900 non-null  int64  \n",
      " 72  calculated_host_listings_count_shared_rooms   31900 non-null  int64  \n",
      " 73  reviews_per_month                             24219 non-null  float64\n",
      "dtypes: float64(22), int64(17), object(35)\n",
      "memory usage: 18.0+ MB\n"
     ]
    }
   ],
   "source": [
    "# bring in the CSV and take a look at it\n",
    "df = pd.read_csv('data/airbnb-listings.csv')\n",
    "df.head(10)\n",
    "df.info()"
   ]
  },
  {
   "cell_type": "code",
   "execution_count": 29,
   "id": "interim-farmer",
   "metadata": {},
   "outputs": [],
   "source": [
    "# trying out this code from stack overflow: https://stackoverflow.com/questions/40206249/count-of-most-popular-words-in-a-pandas-dataframe\n",
    "# https://stackoverflow.com/questions/5511708/adding-words-to-nltk-stoplist"
   ]
  },
  {
   "cell_type": "code",
   "execution_count": 37,
   "id": "ranging-donna",
   "metadata": {},
   "outputs": [
    {
     "name": "stderr",
     "output_type": "stream",
     "text": [
      "<ipython-input-37-928a38bcb624>:3: FutureWarning: The default value of regex will change from True to False in a future version.\n",
      "  txt = df.description.str.lower().str.replace(r'\\|', ' ').str.cat(sep=' ')\n"
     ]
    },
    {
     "data": {
      "image/png": "[encoded data removed]",
      "text/plain": [
       "<Figure size 432x288 with 1 Axes>"
      ]
     },
     "metadata": {},
     "output_type": "display_data"
    }
   ],
   "source": [
    "top_N = 10\n",
    "\n",
    "txt = df.description.str.lower().str.replace(r'\\|', ' ').str.cat(sep=' ')\n",
    "words = nltk.tokenize.word_tokenize(txt)\n",
    "word_dist = nltk.FreqDist(words)\n",
    "\n",
    "stopwords = nltk.corpus.stopwords.words('english')\n",
    "newStopWords = ['<','>','/','br',',','.','b','/b','space','room','!','private','access','kitchen',')','guest','(','&','bedroom','house','apartment','home','bed','2','living','located','-','bathroom',\"*\",'one','\\'s',':','full','la','note','1','large']\n",
    "stopwords.extend(newStopWords)\n",
    "\n",
    "\n",
    "words_except_stop_dist = nltk.FreqDist(w for w in words if w not in stopwords) \n",
    "\n",
    "rslt = pd.DataFrame(words_except_stop_dist.most_common(top_N),\n",
    "                    columns=['Word', 'Frequency']).set_index('Word')\n",
    "\n",
    "matplotlib.style.use('ggplot')\n",
    "\n",
    "ax = rslt.plot.bar(stacked=True)"
   ]
  },
  {
   "cell_type": "code",
   "execution_count": 38,
   "id": "internal-inclusion",
   "metadata": {},
   "outputs": [
    {
     "name": "stderr",
     "output_type": "stream",
     "text": [
      "<ipython-input-38-509b35667c2a>:3: FutureWarning: The default value of regex will change from True to False in a future version.\n",
      "  txt = df.neighborhood_overview.str.lower().str.replace(r'\\|', ' ').str.cat(sep=' ')\n"
     ]
    },
    {
     "data": {
      "image/png": "[encoded data removed]",
      "text/plain": [
       "<Figure size 432x288 with 1 Axes>"
      ]
     },
     "metadata": {},
     "output_type": "display_data"
    }
   ],
   "source": [
    "top_N = 10\n",
    "\n",
    "txt = df.neighborhood_overview.str.lower().str.replace(r'\\|', ' ').str.cat(sep=' ')\n",
    "words = nltk.tokenize.word_tokenize(txt)\n",
    "word_dist = nltk.FreqDist(words)\n",
    "\n",
    "stopwords = nltk.corpus.stopwords.words('english')\n",
    "newStopWords = ['<','>','/','br',',','.','b','/b','space','room','!','private','access','kitchen',')','guest','(','&','bedroom','house','apartment','home','bed','2','living','located','-','bathroom',\"*\",'one','\\'s',':','full','la','note','1','large']\n",
    "stopwords.extend(newStopWords)\n",
    "\n",
    "\n",
    "words_except_stop_dist = nltk.FreqDist(w for w in words if w not in stopwords) \n",
    "\n",
    "rslt = pd.DataFrame(words_except_stop_dist.most_common(top_N),\n",
    "                    columns=['Word', 'Frequency']).set_index('Word')\n",
    "\n",
    "matplotlib.style.use('ggplot')\n",
    "\n",
    "ax = rslt.plot.bar(stacked=True)"
   ]
  },
  {
   "cell_type": "code",
   "execution_count": 39,
   "id": "incomplete-tuner",
   "metadata": {},
   "outputs": [
    {
     "name": "stderr",
     "output_type": "stream",
     "text": [
      "<ipython-input-39-eca86bf36342>:3: FutureWarning: The default value of regex will change from True to False in a future version.\n",
      "  txt = df.host_about.str.lower().str.replace(r'\\|', ' ').str.cat(sep=' ')\n"
     ]
    },
    {
     "data": {
      "image/png": "[encoded data removed]",
      "text/plain": [
       "<Figure size 432x288 with 1 Axes>"
      ]
     },
     "metadata": {},
     "output_type": "display_data"
    }
   ],
   "source": [
    "top_N = 10\n",
    "\n",
    "txt = df.host_about.str.lower().str.replace(r'\\|', ' ').str.cat(sep=' ')\n",
    "words = nltk.tokenize.word_tokenize(txt)\n",
    "word_dist = nltk.FreqDist(words)\n",
    "\n",
    "stopwords = nltk.corpus.stopwords.words('english')\n",
    "newStopWords = ['<','>','/','br',',','.','b','/b','space','room','!','private','access','kitchen',')','guest','(','&','bedroom','house','apartment','home','bed','2','living','located','-','bathroom',\"*\",'one','\\'s',':','full','la','note','1','large']\n",
    "stopwords.extend(newStopWords)\n",
    "\n",
    "\n",
    "words_except_stop_dist = nltk.FreqDist(w for w in words if w not in stopwords) \n",
    "\n",
    "rslt = pd.DataFrame(words_except_stop_dist.most_common(top_N),\n",
    "                    columns=['Word', 'Frequency']).set_index('Word')\n",
    "\n",
    "matplotlib.style.use('ggplot')\n",
    "\n",
    "ax = rslt.plot.bar(stacked=True)"
   ]
  },
  {
   "cell_type": "code",
   "execution_count": null,
   "id": "detailed-salon",
   "metadata": {},
   "outputs": [],
   "source": []
  }
 ],
 "metadata": {
  "kernelspec": {
   "display_name": "Python 3",
   "language": "python",
   "name": "python3"
  },
  "language_info": {
   "codemirror_mode": {
    "name": "ipython",
    "version": 3
   },
   "file_extension": ".py",
   "mimetype": "text/x-python",
   "name": "python",
   "nbconvert_exporter": "python",
   "pygments_lexer": "ipython3",
   "version": "3.8.8"
  }
 },
 "nbformat": 4,
 "nbformat_minor": 5
}
